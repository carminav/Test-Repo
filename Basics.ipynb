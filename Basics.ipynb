{
 "cells": [
  {
   "cell_type": "code",
   "execution_count": 1,
   "metadata": {
    "collapsed": false
   },
   "outputs": [],
   "source": [
    "import pandas as pd\n"
   ]
  },
  {
   "cell_type": "code",
   "execution_count": 2,
   "metadata": {
    "collapsed": false
   },
   "outputs": [
    {
     "name": "stdout",
     "output_type": "stream",
     "text": [
      "Fetching package metadata: ....\n",
      "Solving package specifications: .........\n",
      "\n",
      "Package plan for installation in environment /Users/admin/anaconda/envs/dato-env:\n",
      "\n",
      "The following packages will be downloaded:\n",
      "\n",
      "    package                    |            build\n",
      "    ---------------------------|-----------------\n",
      "    geos-3.3.3                 |                0         2.4 MB\n",
      "    basemap-1.0.7              |       np19py27_0       118.5 MB\n",
      "    ------------------------------------------------------------\n",
      "                                           Total:       120.9 MB\n",
      "\n",
      "The following NEW packages will be INSTALLED:\n",
      "\n",
      "    basemap: 1.0.7-np19py27_0\n",
      "    geos:    3.3.3-0         \n",
      "\n",
      "Fetching packages ...\n",
      "geos-3.3.3-0.t 100% |################################| Time: 0:00:02   1.08 MB/s\n",
      "basemap-1.0.7- 100% |################################| Time: 0:03:20 619.41 kB/s\n",
      "Extracting packages ...\n",
      "[      COMPLETE      ]|###################################################| 100%\n",
      "Linking packages ...\n",
      "[      COMPLETE      ]|###################################################| 100%\n"
     ]
    }
   ],
   "source": [
    "!conda install basemap -y"
   ]
  },
  {
   "cell_type": "code",
   "execution_count": 2,
   "metadata": {
    "collapsed": false
   },
   "outputs": [],
   "source": [
    "pixar_movies = pd.read_csv(\"PixarMovies.csv\")"
   ]
  },
  {
   "cell_type": "code",
   "execution_count": 3,
   "metadata": {
    "collapsed": false
   },
   "outputs": [
    {
     "name": "stdout",
     "output_type": "stream",
     "text": [
      "15\n",
      "16\n"
     ]
    }
   ],
   "source": [
    "num_rows = pixar_movies.shape[0]\n",
    "num_columns = pixar_movies.shape[1]\n",
    "\n",
    "print(num_rows)\n",
    "print(num_columns)"
   ]
  },
  {
   "cell_type": "code",
   "execution_count": 4,
   "metadata": {
    "collapsed": false
   },
   "outputs": [
    {
     "data": {
      "text/html": [
       "<div>\n",
       "<table border=\"1\" class=\"dataframe\">\n",
       "  <thead>\n",
       "    <tr style=\"text-align: right;\">\n",
       "      <th></th>\n",
       "      <th>Year Released</th>\n",
       "      <th>Movie</th>\n",
       "      <th>Length</th>\n",
       "      <th>RT Score</th>\n",
       "      <th>IMDB Score</th>\n",
       "      <th>Metacritic Score</th>\n",
       "      <th>Opening Weekend</th>\n",
       "      <th>Worldwide Gross</th>\n",
       "      <th>Domestic Gross</th>\n",
       "      <th>Adjusted Domestic Gross</th>\n",
       "      <th>International Gross</th>\n",
       "      <th>Domestic %</th>\n",
       "      <th>International %</th>\n",
       "      <th>Production Budget</th>\n",
       "      <th>Oscars Nominated</th>\n",
       "      <th>Oscars Won</th>\n",
       "    </tr>\n",
       "  </thead>\n",
       "  <tbody>\n",
       "    <tr>\n",
       "      <th>0</th>\n",
       "      <td>1995</td>\n",
       "      <td>Toy Story</td>\n",
       "      <td>81</td>\n",
       "      <td>100</td>\n",
       "      <td>8.3</td>\n",
       "      <td>92</td>\n",
       "      <td>29.14</td>\n",
       "      <td>362.0</td>\n",
       "      <td>191.8</td>\n",
       "      <td>356.21</td>\n",
       "      <td>170.2</td>\n",
       "      <td>52.98%</td>\n",
       "      <td>47.02%</td>\n",
       "      <td>30</td>\n",
       "      <td>3</td>\n",
       "      <td>0</td>\n",
       "    </tr>\n",
       "    <tr>\n",
       "      <th>1</th>\n",
       "      <td>1998</td>\n",
       "      <td>A Bug's Life</td>\n",
       "      <td>96</td>\n",
       "      <td>92</td>\n",
       "      <td>7.2</td>\n",
       "      <td>77</td>\n",
       "      <td>33.26</td>\n",
       "      <td>363.4</td>\n",
       "      <td>162.8</td>\n",
       "      <td>277.18</td>\n",
       "      <td>200.6</td>\n",
       "      <td>44.80%</td>\n",
       "      <td>55.20%</td>\n",
       "      <td>45</td>\n",
       "      <td>1</td>\n",
       "      <td>0</td>\n",
       "    </tr>\n",
       "  </tbody>\n",
       "</table>\n",
       "</div>"
      ],
      "text/plain": [
       "   Year Released         Movie  Length  RT Score  IMDB Score  \\\n",
       "0           1995     Toy Story      81       100         8.3   \n",
       "1           1998  A Bug's Life      96        92         7.2   \n",
       "\n",
       "   Metacritic Score  Opening Weekend  Worldwide Gross  Domestic Gross  \\\n",
       "0                92            29.14            362.0           191.8   \n",
       "1                77            33.26            363.4           162.8   \n",
       "\n",
       "   Adjusted Domestic Gross  International Gross Domestic % International %  \\\n",
       "0                   356.21                170.2     52.98%          47.02%   \n",
       "1                   277.18                200.6     44.80%          55.20%   \n",
       "\n",
       "   Production Budget  Oscars Nominated  Oscars Won  \n",
       "0                 30                 3           0  \n",
       "1                 45                 1           0  "
      ]
     },
     "execution_count": 4,
     "metadata": {},
     "output_type": "execute_result"
    }
   ],
   "source": [
    "pixar_movies.head(2)"
   ]
  },
  {
   "cell_type": "code",
   "execution_count": 5,
   "metadata": {
    "collapsed": false
   },
   "outputs": [
    {
     "data": {
      "text/html": [
       "<div>\n",
       "<table border=\"1\" class=\"dataframe\">\n",
       "  <thead>\n",
       "    <tr style=\"text-align: right;\">\n",
       "      <th></th>\n",
       "      <th>Year Released</th>\n",
       "      <th>Length</th>\n",
       "      <th>RT Score</th>\n",
       "      <th>IMDB Score</th>\n",
       "      <th>Metacritic Score</th>\n",
       "      <th>Opening Weekend</th>\n",
       "      <th>Worldwide Gross</th>\n",
       "      <th>Domestic Gross</th>\n",
       "      <th>Adjusted Domestic Gross</th>\n",
       "      <th>International Gross</th>\n",
       "      <th>Production Budget</th>\n",
       "      <th>Oscars Nominated</th>\n",
       "      <th>Oscars Won</th>\n",
       "    </tr>\n",
       "  </thead>\n",
       "  <tbody>\n",
       "    <tr>\n",
       "      <th>count</th>\n",
       "      <td>15.000000</td>\n",
       "      <td>15.000000</td>\n",
       "      <td>15.000000</td>\n",
       "      <td>15.000000</td>\n",
       "      <td>15.000000</td>\n",
       "      <td>15.000000</td>\n",
       "      <td>15.000000</td>\n",
       "      <td>15.000000</td>\n",
       "      <td>15.000000</td>\n",
       "      <td>15.000000</td>\n",
       "      <td>15.000000</td>\n",
       "      <td>14.000000</td>\n",
       "      <td>14.000000</td>\n",
       "    </tr>\n",
       "    <tr>\n",
       "      <th>mean</th>\n",
       "      <td>2006.066667</td>\n",
       "      <td>101.533333</td>\n",
       "      <td>89.333333</td>\n",
       "      <td>7.846667</td>\n",
       "      <td>82.800000</td>\n",
       "      <td>67.990667</td>\n",
       "      <td>612.486667</td>\n",
       "      <td>258.506667</td>\n",
       "      <td>318.448000</td>\n",
       "      <td>353.986667</td>\n",
       "      <td>133.400000</td>\n",
       "      <td>2.857143</td>\n",
       "      <td>0.785714</td>\n",
       "    </tr>\n",
       "    <tr>\n",
       "      <th>std</th>\n",
       "      <td>5.933761</td>\n",
       "      <td>9.927355</td>\n",
       "      <td>16.451950</td>\n",
       "      <td>0.655599</td>\n",
       "      <td>12.119642</td>\n",
       "      <td>23.270468</td>\n",
       "      <td>190.193934</td>\n",
       "      <td>66.518284</td>\n",
       "      <td>73.321064</td>\n",
       "      <td>135.061615</td>\n",
       "      <td>59.696614</td>\n",
       "      <td>2.032700</td>\n",
       "      <td>0.801784</td>\n",
       "    </tr>\n",
       "    <tr>\n",
       "      <th>min</th>\n",
       "      <td>1995.000000</td>\n",
       "      <td>81.000000</td>\n",
       "      <td>39.000000</td>\n",
       "      <td>6.300000</td>\n",
       "      <td>57.000000</td>\n",
       "      <td>29.140000</td>\n",
       "      <td>362.000000</td>\n",
       "      <td>162.800000</td>\n",
       "      <td>194.430000</td>\n",
       "      <td>170.200000</td>\n",
       "      <td>30.000000</td>\n",
       "      <td>0.000000</td>\n",
       "      <td>0.000000</td>\n",
       "    </tr>\n",
       "    <tr>\n",
       "      <th>25%</th>\n",
       "      <td>2002.000000</td>\n",
       "      <td>96.000000</td>\n",
       "      <td>85.000000</td>\n",
       "      <td>7.300000</td>\n",
       "      <td>75.000000</td>\n",
       "      <td>58.755000</td>\n",
       "      <td>503.150000</td>\n",
       "      <td>215.100000</td>\n",
       "      <td>261.350000</td>\n",
       "      <td>256.050000</td>\n",
       "      <td>91.000000</td>\n",
       "      <td>1.000000</td>\n",
       "      <td>0.000000</td>\n",
       "    </tr>\n",
       "    <tr>\n",
       "      <th>50%</th>\n",
       "      <td>2007.000000</td>\n",
       "      <td>102.000000</td>\n",
       "      <td>96.000000</td>\n",
       "      <td>8.000000</td>\n",
       "      <td>88.000000</td>\n",
       "      <td>66.300000</td>\n",
       "      <td>559.900000</td>\n",
       "      <td>245.900000</td>\n",
       "      <td>318.900000</td>\n",
       "      <td>336.600000</td>\n",
       "      <td>150.000000</td>\n",
       "      <td>3.000000</td>\n",
       "      <td>1.000000</td>\n",
       "    </tr>\n",
       "    <tr>\n",
       "      <th>75%</th>\n",
       "      <td>2010.500000</td>\n",
       "      <td>109.000000</td>\n",
       "      <td>98.500000</td>\n",
       "      <td>8.300000</td>\n",
       "      <td>92.000000</td>\n",
       "      <td>76.450000</td>\n",
       "      <td>704.200000</td>\n",
       "      <td>280.750000</td>\n",
       "      <td>361.165000</td>\n",
       "      <td>427.800000</td>\n",
       "      <td>182.500000</td>\n",
       "      <td>4.750000</td>\n",
       "      <td>1.000000</td>\n",
       "    </tr>\n",
       "    <tr>\n",
       "      <th>max</th>\n",
       "      <td>2015.000000</td>\n",
       "      <td>116.000000</td>\n",
       "      <td>100.000000</td>\n",
       "      <td>8.800000</td>\n",
       "      <td>96.000000</td>\n",
       "      <td>110.310000</td>\n",
       "      <td>1063.200000</td>\n",
       "      <td>415.000000</td>\n",
       "      <td>457.460000</td>\n",
       "      <td>648.200000</td>\n",
       "      <td>200.000000</td>\n",
       "      <td>6.000000</td>\n",
       "      <td>2.000000</td>\n",
       "    </tr>\n",
       "  </tbody>\n",
       "</table>\n",
       "</div>"
      ],
      "text/plain": [
       "       Year Released      Length    RT Score  IMDB Score  Metacritic Score  \\\n",
       "count      15.000000   15.000000   15.000000   15.000000         15.000000   \n",
       "mean     2006.066667  101.533333   89.333333    7.846667         82.800000   \n",
       "std         5.933761    9.927355   16.451950    0.655599         12.119642   \n",
       "min      1995.000000   81.000000   39.000000    6.300000         57.000000   \n",
       "25%      2002.000000   96.000000   85.000000    7.300000         75.000000   \n",
       "50%      2007.000000  102.000000   96.000000    8.000000         88.000000   \n",
       "75%      2010.500000  109.000000   98.500000    8.300000         92.000000   \n",
       "max      2015.000000  116.000000  100.000000    8.800000         96.000000   \n",
       "\n",
       "       Opening Weekend  Worldwide Gross  Domestic Gross  \\\n",
       "count        15.000000        15.000000       15.000000   \n",
       "mean         67.990667       612.486667      258.506667   \n",
       "std          23.270468       190.193934       66.518284   \n",
       "min          29.140000       362.000000      162.800000   \n",
       "25%          58.755000       503.150000      215.100000   \n",
       "50%          66.300000       559.900000      245.900000   \n",
       "75%          76.450000       704.200000      280.750000   \n",
       "max         110.310000      1063.200000      415.000000   \n",
       "\n",
       "       Adjusted Domestic Gross  International Gross  Production Budget  \\\n",
       "count                15.000000            15.000000          15.000000   \n",
       "mean                318.448000           353.986667         133.400000   \n",
       "std                  73.321064           135.061615          59.696614   \n",
       "min                 194.430000           170.200000          30.000000   \n",
       "25%                 261.350000           256.050000          91.000000   \n",
       "50%                 318.900000           336.600000         150.000000   \n",
       "75%                 361.165000           427.800000         182.500000   \n",
       "max                 457.460000           648.200000         200.000000   \n",
       "\n",
       "       Oscars Nominated  Oscars Won  \n",
       "count         14.000000   14.000000  \n",
       "mean           2.857143    0.785714  \n",
       "std            2.032700    0.801784  \n",
       "min            0.000000    0.000000  \n",
       "25%            1.000000    0.000000  \n",
       "50%            3.000000    1.000000  \n",
       "75%            4.750000    1.000000  \n",
       "max            6.000000    2.000000  "
      ]
     },
     "execution_count": 5,
     "metadata": {},
     "output_type": "execute_result"
    }
   ],
   "source": [
    "pixar_movies.describe()"
   ]
  },
  {
   "cell_type": "code",
   "execution_count": 6,
   "metadata": {
    "collapsed": false
   },
   "outputs": [
    {
     "name": "stdout",
     "output_type": "stream",
     "text": [
      "Current conda install:\r\n",
      "\r\n",
      "             platform : osx-64\r\n",
      "        conda version : 4.0.5\r\n",
      "  conda-build version : 1.14.1\r\n",
      "       python version : 2.7.11.final.0\r\n",
      "     requests version : 2.3.0\r\n",
      "     root environment : /Users/admin/anaconda  (writable)\r\n",
      "  default environment : /Users/admin/anaconda/envs/dato-env\r\n",
      "     envs directories : /Users/admin/anaconda/envs\r\n",
      "        package cache : /Users/admin/anaconda/pkgs\r\n",
      "         channel URLs : https://repo.continuum.io/pkgs/free/osx-64/\r\n",
      "                        https://repo.continuum.io/pkgs/free/noarch/\r\n",
      "                        https://repo.continuum.io/pkgs/pro/osx-64/\r\n",
      "                        https://repo.continuum.io/pkgs/pro/noarch/\r\n",
      "          config file : None\r\n",
      "    is foreign system : False\r\n",
      "\r\n"
     ]
    }
   ],
   "source": [
    "!conda info"
   ]
  },
  {
   "cell_type": "code",
   "execution_count": 7,
   "metadata": {
    "collapsed": false
   },
   "outputs": [
    {
     "name": "stdout",
     "output_type": "stream",
     "text": [
      "# packages in environment at /Users/admin/anaconda/envs/dato-env:\n",
      "#\n",
      "_license                  1.1                      py27_0    <unknown>\n",
      "abstract-rendering        0.5.1                np19py27_0    <unknown>\n",
      "alabaster                 0.7.3                    py27_0    <unknown>\n",
      "anaconda                  2.3.0                np19py27_0    <unknown>\n",
      "appscript                 1.0.1                    py27_0    <unknown>\n",
      "argcomplete               0.8.9                    py27_0    <unknown>\n",
      "astropy                   1.0.3                np19py27_0    <unknown>\n",
      "awscli                    1.6.2                     <pip>\n",
      "babel                     1.3                      py27_0    <unknown>\n",
      "backports.ssl-match-hostname 3.5.0.1                   <pip>\n",
      "bcdoc                     0.12.2                    <pip>\n",
      "bcolz                     0.9.0                np19py27_0    <unknown>\n",
      "beautiful-soup            4.3.2                    py27_0    <unknown>\n",
      "beautifulsoup4            4.3.2                     <pip>\n",
      "binstar                   0.11.0                   py27_0    <unknown>\n",
      "bitarray                  0.8.1                    py27_0    <unknown>\n",
      "blaze                     0.8.0                     <pip>\n",
      "blaze-core                0.8.0                np19py27_0    <unknown>\n",
      "blz                       0.6.2                np19py27_1    <unknown>\n",
      "bokeh                     0.9.0                np19py27_0    <unknown>\n",
      "boto                      2.38.0                   py27_0    <unknown>\n",
      "botocore                  0.73.0                    <pip>\n",
      "bottleneck                1.0.0                np19py27_0    <unknown>\n",
      "cdecimal                  2.3                      py27_0    <unknown>\n",
      "certifi                   14.05.14                 py27_0    <unknown>\n",
      "cffi                      1.1.0                    py27_0    <unknown>\n",
      "clyent                    0.3.4                    py27_0    <unknown>\n",
      "colorama                  0.3.3                    py27_0    <unknown>\n",
      "configobj                 5.0.6                    py27_0    <unknown>\n",
      "cryptography              0.9.1                    py27_0    <unknown>\n",
      "curl                      7.43.0                        0    <unknown>\n",
      "cython                    0.22.1                   py27_0    <unknown>\n",
      "cytoolz                   0.7.3                    py27_0    <unknown>\n",
      "datashape                 0.4.5                np19py27_0    <unknown>\n",
      "decorator                 3.4.2                    py27_0    <unknown>\n",
      "docutils                  0.12                     py27_0    <unknown>\n",
      "dynd-python               0.6.5                np19py27_0    <unknown>\n",
      "enum34                    1.0.4                    py27_0    <unknown>\n",
      "fastcache                 1.0.2                    py27_0    <unknown>\n",
      "flask                     0.10.1                   py27_1    <unknown>\n",
      "freetype                  2.5.2                         2    <unknown>\n",
      "funcsigs                  0.4                      py27_0    <unknown>\n",
      "gevent                    1.0.1                    py27_0    <unknown>\n",
      "gevent-websocket          0.9.3                    py27_0    <unknown>\n",
      "graphlab-create           1.8.3                     <pip>\n",
      "graphlab-create-license   1.8                       <pip>\n",
      "greenlet                  0.4.7                    py27_0    <unknown>\n",
      "grin                      1.2.1                    py27_1    <unknown>\n",
      "h5py                      2.5.0                np19py27_3    <unknown>\n",
      "hdf5                      1.8.15.1                      1    <unknown>\n",
      "idna                      2.0                      py27_0    <unknown>\n",
      "ipaddress                 1.0.7                    py27_0    <unknown>\n",
      "ipython                   3.2.0                    py27_0    <unknown>\n",
      "ipython-notebook          3.2.0                    py27_0    <unknown>\n",
      "ipython-qtconsole         3.2.0                    py27_0    <unknown>\n",
      "itsdangerous              0.24                     py27_0    <unknown>\n",
      "jdcal                     1.0                      py27_0    <unknown>\n",
      "jedi                      0.8.1                    py27_0    <unknown>\n",
      "jinja2                    2.7.3                    py27_1    <unknown>\n",
      "jmespath                  0.5.0                     <pip>\n",
      "jpeg                      8d                            1    <unknown>\n",
      "jsonschema                2.4.0                    py27_0    <unknown>\n",
      "launcher                  1.0.0                         3    <unknown>\n",
      "libdynd                   0.6.5                         0    <unknown>\n",
      "libpng                    1.6.17                        0    <unknown>\n",
      "libsodium                 0.4.5                         0    <unknown>\n",
      "libtiff                   4.0.2                         1    <unknown>\n",
      "libxml2                   2.9.2                         0    <unknown>\n",
      "libxslt                   1.1.28                        2    <unknown>\n",
      "llvmlite                  0.5.0                    py27_0    <unknown>\n",
      "lxml                      3.4.4                    py27_0    <unknown>\n",
      "markupsafe                0.23                     py27_0    <unknown>\n",
      "matplotlib                1.4.3                np19py27_2    <unknown>\n",
      "mistune                   0.5.1                    py27_1    <unknown>\n",
      "mixpanel-py               3.1.1                     <pip>\n",
      "mock                      1.0.1                    py27_0    <unknown>\n",
      "multipledispatch          0.4.7                    py27_0    <unknown>\n",
      "networkx                  1.9.1                    py27_0    <unknown>\n",
      "nltk                      3.0.3                np19py27_0    <unknown>\n",
      "node-webkit               0.10.1                        0    <unknown>\n",
      "nose                      1.3.7                    py27_0    <unknown>\n",
      "numba                     0.19.1               np19py27_0    <unknown>\n",
      "numexpr                   2.4.3                np19py27_0    <unknown>\n",
      "numpy                     1.9.2                    py27_0    <unknown>\n",
      "odo                       0.3.2                np19py27_0    <unknown>\n",
      "openpyxl                  1.8.5                    py27_0    <unknown>\n",
      "openssl                   1.0.2f                        0    defaults\n",
      "pandas                    0.16.2               np19py27_0    <unknown>\n",
      "patsy                     0.3.0                np19py27_0    <unknown>\n",
      "pep8                      1.6.2                    py27_0    <unknown>\n",
      "pillow                    2.8.2                    py27_0    <unknown>\n",
      "pip                       8.0.2                    py27_0    defaults\n",
      "ply                       3.6                      py27_0    <unknown>\n",
      "prettytable               0.7.2                     <pip>\n",
      "psutil                    2.2.1                    py27_0    <unknown>\n",
      "ptyprocess                0.4                      py27_0    <unknown>\n",
      "py                        1.4.27                   py27_0    <unknown>\n",
      "pyasn1                    0.1.7                    py27_0    <unknown>\n",
      "pyaudio                   0.2.7                    py27_0    <unknown>\n",
      "pycosat                   0.6.1                    py27_0    <unknown>\n",
      "pycparser                 2.14                     py27_0    <unknown>\n",
      "pycrypto                  2.6.1                    py27_0    <unknown>\n",
      "pycurl                    7.19.5.1                 py27_2    <unknown>\n",
      "pyflakes                  0.9.2                    py27_0    <unknown>\n",
      "pygments                  2.0.2                    py27_0    <unknown>\n",
      "pyopenssl                 0.15.1                   py27_1    <unknown>\n",
      "pyparsing                 2.0.3                    py27_0    <unknown>\n",
      "pyqt                      4.11.3                   py27_0    <unknown>\n",
      "pytables                  3.2.0                np19py27_0    <unknown>\n",
      "pytest                    2.7.1                    py27_0    <unknown>\n",
      "python                    2.7.11                        0    defaults\n",
      "python-dateutil           2.4.2                    py27_0    <unknown>\n",
      "python.app                1.2                      py27_4    <unknown>\n",
      "pytz                      2015.4                   py27_0    <unknown>\n",
      "pyyaml                    3.11                     py27_1    <unknown>\n",
      "pyzmq                     14.7.0                   py27_0    <unknown>\n",
      "qt                        4.8.6                         3    <unknown>\n",
      "readline                  6.2                           2    <unknown>\n",
      "redis                     2.6.9                         0    <unknown>\n",
      "redis-py                  2.10.3                   py27_0    <unknown>\n",
      "requests                  2.9.1                    py27_0    defaults\n",
      "rope                      0.9.4                    py27_1    <unknown>\n",
      "rsa                       3.1.2                     <pip>\n",
      "runipy                    0.1.3                    py27_0    <unknown>\n",
      "scikit-image              0.11.3               np19py27_0    <unknown>\n",
      "scikit-learn              0.16.1               np19py27_0    <unknown>\n",
      "scipy                     0.15.1               np19py27_0    <unknown>\n",
      "seaborn                   0.7.0                    py27_0    <unknown>\n",
      "setuptools                19.6.2                   py27_0    defaults\n",
      "sip                       4.16.5                   py27_0    <unknown>\n",
      "six                       1.9.0                    py27_0    <unknown>\n",
      "snowballstemmer           1.2.0                    py27_0    <unknown>\n",
      "sockjs-tornado            1.0.1                    py27_0    <unknown>\n",
      "sphinx                    1.3.1                    py27_0    <unknown>\n",
      "sphinx-rtd-theme          0.1.7                     <pip>\n",
      "sphinx_rtd_theme          0.1.7                    py27_0    <unknown>\n",
      "spyder                    2.3.5.2                  py27_0    <unknown>\n",
      "spyder-app                2.3.5.2                  py27_0    <unknown>\n",
      "sqlalchemy                1.0.5                    py27_0    <unknown>\n",
      "sqlite                    3.9.2                         0    defaults\n",
      "sseclient                 0.0.8                     <pip>\n",
      "ssl_match_hostname        3.4.0.2                  py27_0    <unknown>\n",
      "statsmodels               0.6.1                np19py27_0    <unknown>\n",
      "sympy                     0.7.6                    py27_0    <unknown>\n",
      "tables                    3.2.0                     <pip>\n",
      "terminado                 0.5                      py27_0    <unknown>\n",
      "tk                        8.5.18                        0    <unknown>\n",
      "toolz                     0.7.2                    py27_0    <unknown>\n",
      "tornado                   4.2                      py27_0    <unknown>\n",
      "ujson                     1.33                     py27_0    <unknown>\n",
      "unicodecsv                0.9.4                    py27_0    <unknown>\n",
      "werkzeug                  0.10.4                   py27_0    <unknown>\n",
      "wheel                     0.29.0                   py27_0    defaults\n",
      "xlrd                      0.9.3                    py27_0    <unknown>\n",
      "xlsxwriter                0.7.3                    py27_0    <unknown>\n",
      "xlwings                   0.3.5                    py27_0    <unknown>\n",
      "xlwt                      1.0.0                    py27_0    <unknown>\n",
      "yaml                      0.1.6                         0    <unknown>\n",
      "zeromq                    4.0.5                         0    <unknown>\n",
      "zlib                      1.2.8                         0    <unknown>\n"
     ]
    }
   ],
   "source": [
    "!conda list"
   ]
  },
  {
   "cell_type": "code",
   "execution_count": 8,
   "metadata": {
    "collapsed": false
   },
   "outputs": [
    {
     "name": "stdout",
     "output_type": "stream",
     "text": [
      "Fetching package metadata: ....\n",
      "Solving package specifications: .........\n",
      "\n",
      "# All requested packages already installed.\n",
      "# packages in environment at /Users/admin/anaconda/envs/dato-env:\n",
      "#\n",
      "seaborn                   0.7.0                    py27_0    <unknown>\n"
     ]
    }
   ],
   "source": [
    "!conda install seaborn -y"
   ]
  },
  {
   "cell_type": "code",
   "execution_count": 9,
   "metadata": {
    "collapsed": false
   },
   "outputs": [
    {
     "name": "stderr",
     "output_type": "stream",
     "text": [
      ":0: FutureWarning: IPython widgets are experimental and may change in the future.\n"
     ]
    }
   ],
   "source": [
    "import seaborn as sns"
   ]
  },
  {
   "cell_type": "markdown",
   "metadata": {},
   "source": [
    "Use vectorized string methods to strip the percentage sign (%) from the end of each of the values in the Domestic % and International % columns. Then set the type to float.\n",
    "Use the Series attribute str followed by rstrip() to remove the % sign from all of the values in the Domestic % and International % columns.\n",
    "Call the method astype() on the returned Series objects to set the data type to float.\n",
    "Replace the original columns in pixar_movies with these new Series objects.\n",
    "The following code carries out the above steps for the Domestic % column"
   ]
  },
  {
   "cell_type": "code",
   "execution_count": 10,
   "metadata": {
    "collapsed": true
   },
   "outputs": [],
   "source": [
    "pixar_movies[\"Domestic %\"] = pixar_movies[\"Domestic %\"].str.rstrip(\"%\").astype(\"float\")"
   ]
  },
  {
   "cell_type": "code",
   "execution_count": 11,
   "metadata": {
    "collapsed": false
   },
   "outputs": [],
   "source": [
    "pixar_movies[\"International %\"] = pixar_movies[\"International %\"].str.rstrip(\"%\").astype(\"float\")"
   ]
  },
  {
   "cell_type": "code",
   "execution_count": 12,
   "metadata": {
    "collapsed": true
   },
   "outputs": [],
   "source": [
    "pixar_movies[\"IMDB Score\"] =  pixar_movies[\"IMDB Score\"] *10"
   ]
  },
  {
   "cell_type": "code",
   "execution_count": 13,
   "metadata": {
    "collapsed": false
   },
   "outputs": [
    {
     "data": {
      "text/html": [
       "<div>\n",
       "<table border=\"1\" class=\"dataframe\">\n",
       "  <thead>\n",
       "    <tr style=\"text-align: right;\">\n",
       "      <th></th>\n",
       "      <th>Year Released</th>\n",
       "      <th>Movie</th>\n",
       "      <th>Length</th>\n",
       "      <th>RT Score</th>\n",
       "      <th>IMDB Score</th>\n",
       "      <th>Metacritic Score</th>\n",
       "      <th>Opening Weekend</th>\n",
       "      <th>Worldwide Gross</th>\n",
       "      <th>Domestic Gross</th>\n",
       "      <th>Adjusted Domestic Gross</th>\n",
       "      <th>International Gross</th>\n",
       "      <th>Domestic %</th>\n",
       "      <th>International %</th>\n",
       "      <th>Production Budget</th>\n",
       "      <th>Oscars Nominated</th>\n",
       "      <th>Oscars Won</th>\n",
       "    </tr>\n",
       "  </thead>\n",
       "  <tbody>\n",
       "    <tr>\n",
       "      <th>0</th>\n",
       "      <td>1995</td>\n",
       "      <td>Toy Story</td>\n",
       "      <td>81</td>\n",
       "      <td>100</td>\n",
       "      <td>83</td>\n",
       "      <td>92</td>\n",
       "      <td>29.14</td>\n",
       "      <td>362.0</td>\n",
       "      <td>191.8</td>\n",
       "      <td>356.21</td>\n",
       "      <td>170.2</td>\n",
       "      <td>52.98</td>\n",
       "      <td>47.02</td>\n",
       "      <td>30</td>\n",
       "      <td>3</td>\n",
       "      <td>0</td>\n",
       "    </tr>\n",
       "    <tr>\n",
       "      <th>1</th>\n",
       "      <td>1998</td>\n",
       "      <td>A Bug's Life</td>\n",
       "      <td>96</td>\n",
       "      <td>92</td>\n",
       "      <td>72</td>\n",
       "      <td>77</td>\n",
       "      <td>33.26</td>\n",
       "      <td>363.4</td>\n",
       "      <td>162.8</td>\n",
       "      <td>277.18</td>\n",
       "      <td>200.6</td>\n",
       "      <td>44.80</td>\n",
       "      <td>55.20</td>\n",
       "      <td>45</td>\n",
       "      <td>1</td>\n",
       "      <td>0</td>\n",
       "    </tr>\n",
       "  </tbody>\n",
       "</table>\n",
       "</div>"
      ],
      "text/plain": [
       "   Year Released         Movie  Length  RT Score  IMDB Score  \\\n",
       "0           1995     Toy Story      81       100          83   \n",
       "1           1998  A Bug's Life      96        92          72   \n",
       "\n",
       "   Metacritic Score  Opening Weekend  Worldwide Gross  Domestic Gross  \\\n",
       "0                92            29.14            362.0           191.8   \n",
       "1                77            33.26            363.4           162.8   \n",
       "\n",
       "   Adjusted Domestic Gross  International Gross  Domestic %  International %  \\\n",
       "0                   356.21                170.2       52.98            47.02   \n",
       "1                   277.18                200.6       44.80            55.20   \n",
       "\n",
       "   Production Budget  Oscars Nominated  Oscars Won  \n",
       "0                 30                 3           0  \n",
       "1                 45                 1           0  "
      ]
     },
     "execution_count": 13,
     "metadata": {},
     "output_type": "execute_result"
    }
   ],
   "source": [
    "pixar_movies.head(2)"
   ]
  },
  {
   "cell_type": "code",
   "execution_count": 14,
   "metadata": {
    "collapsed": true
   },
   "outputs": [],
   "source": [
    "filtered_pixar  = pixar_movies.loc[0:13]"
   ]
  },
  {
   "cell_type": "code",
   "execution_count": 15,
   "metadata": {
    "collapsed": false
   },
   "outputs": [
    {
     "data": {
      "text/html": [
       "<div>\n",
       "<table border=\"1\" class=\"dataframe\">\n",
       "  <thead>\n",
       "    <tr style=\"text-align: right;\">\n",
       "      <th></th>\n",
       "      <th>Year Released</th>\n",
       "      <th>Movie</th>\n",
       "      <th>Length</th>\n",
       "      <th>RT Score</th>\n",
       "      <th>IMDB Score</th>\n",
       "      <th>Metacritic Score</th>\n",
       "      <th>Opening Weekend</th>\n",
       "      <th>Worldwide Gross</th>\n",
       "      <th>Domestic Gross</th>\n",
       "      <th>Adjusted Domestic Gross</th>\n",
       "      <th>International Gross</th>\n",
       "      <th>Domestic %</th>\n",
       "      <th>International %</th>\n",
       "      <th>Production Budget</th>\n",
       "      <th>Oscars Nominated</th>\n",
       "      <th>Oscars Won</th>\n",
       "    </tr>\n",
       "  </thead>\n",
       "  <tbody>\n",
       "    <tr>\n",
       "      <th>0</th>\n",
       "      <td>1995</td>\n",
       "      <td>Toy Story</td>\n",
       "      <td>81</td>\n",
       "      <td>100</td>\n",
       "      <td>83</td>\n",
       "      <td>92</td>\n",
       "      <td>29.14</td>\n",
       "      <td>362.0</td>\n",
       "      <td>191.8</td>\n",
       "      <td>356.21</td>\n",
       "      <td>170.2</td>\n",
       "      <td>52.98</td>\n",
       "      <td>47.02</td>\n",
       "      <td>30</td>\n",
       "      <td>3</td>\n",
       "      <td>0</td>\n",
       "    </tr>\n",
       "    <tr>\n",
       "      <th>1</th>\n",
       "      <td>1998</td>\n",
       "      <td>A Bug's Life</td>\n",
       "      <td>96</td>\n",
       "      <td>92</td>\n",
       "      <td>72</td>\n",
       "      <td>77</td>\n",
       "      <td>33.26</td>\n",
       "      <td>363.4</td>\n",
       "      <td>162.8</td>\n",
       "      <td>277.18</td>\n",
       "      <td>200.6</td>\n",
       "      <td>44.80</td>\n",
       "      <td>55.20</td>\n",
       "      <td>45</td>\n",
       "      <td>1</td>\n",
       "      <td>0</td>\n",
       "    </tr>\n",
       "    <tr>\n",
       "      <th>2</th>\n",
       "      <td>1999</td>\n",
       "      <td>Toy Story 2</td>\n",
       "      <td>92</td>\n",
       "      <td>100</td>\n",
       "      <td>79</td>\n",
       "      <td>88</td>\n",
       "      <td>57.39</td>\n",
       "      <td>485.0</td>\n",
       "      <td>245.9</td>\n",
       "      <td>388.43</td>\n",
       "      <td>239.2</td>\n",
       "      <td>50.70</td>\n",
       "      <td>49.32</td>\n",
       "      <td>90</td>\n",
       "      <td>1</td>\n",
       "      <td>0</td>\n",
       "    </tr>\n",
       "    <tr>\n",
       "      <th>3</th>\n",
       "      <td>2001</td>\n",
       "      <td>Monsters, Inc.</td>\n",
       "      <td>90</td>\n",
       "      <td>96</td>\n",
       "      <td>81</td>\n",
       "      <td>78</td>\n",
       "      <td>62.58</td>\n",
       "      <td>528.8</td>\n",
       "      <td>255.9</td>\n",
       "      <td>366.12</td>\n",
       "      <td>272.9</td>\n",
       "      <td>48.39</td>\n",
       "      <td>51.61</td>\n",
       "      <td>115</td>\n",
       "      <td>3</td>\n",
       "      <td>1</td>\n",
       "    </tr>\n",
       "    <tr>\n",
       "      <th>4</th>\n",
       "      <td>2003</td>\n",
       "      <td>Finding Nemo</td>\n",
       "      <td>104</td>\n",
       "      <td>99</td>\n",
       "      <td>82</td>\n",
       "      <td>90</td>\n",
       "      <td>70.25</td>\n",
       "      <td>895.6</td>\n",
       "      <td>339.7</td>\n",
       "      <td>457.46</td>\n",
       "      <td>555.9</td>\n",
       "      <td>37.93</td>\n",
       "      <td>62.07</td>\n",
       "      <td>94</td>\n",
       "      <td>4</td>\n",
       "      <td>1</td>\n",
       "    </tr>\n",
       "    <tr>\n",
       "      <th>5</th>\n",
       "      <td>2004</td>\n",
       "      <td>The Incredibles</td>\n",
       "      <td>115</td>\n",
       "      <td>97</td>\n",
       "      <td>80</td>\n",
       "      <td>90</td>\n",
       "      <td>70.47</td>\n",
       "      <td>631.4</td>\n",
       "      <td>261.4</td>\n",
       "      <td>341.28</td>\n",
       "      <td>370.0</td>\n",
       "      <td>41.40</td>\n",
       "      <td>58.60</td>\n",
       "      <td>92</td>\n",
       "      <td>4</td>\n",
       "      <td>2</td>\n",
       "    </tr>\n",
       "    <tr>\n",
       "      <th>6</th>\n",
       "      <td>2006</td>\n",
       "      <td>Cars</td>\n",
       "      <td>116</td>\n",
       "      <td>74</td>\n",
       "      <td>72</td>\n",
       "      <td>73</td>\n",
       "      <td>60.12</td>\n",
       "      <td>462.0</td>\n",
       "      <td>244.1</td>\n",
       "      <td>302.59</td>\n",
       "      <td>217.9</td>\n",
       "      <td>52.84</td>\n",
       "      <td>47.16</td>\n",
       "      <td>70</td>\n",
       "      <td>2</td>\n",
       "      <td>0</td>\n",
       "    </tr>\n",
       "    <tr>\n",
       "      <th>7</th>\n",
       "      <td>2007</td>\n",
       "      <td>Ratatouille</td>\n",
       "      <td>111</td>\n",
       "      <td>96</td>\n",
       "      <td>80</td>\n",
       "      <td>96</td>\n",
       "      <td>47.00</td>\n",
       "      <td>623.7</td>\n",
       "      <td>206.4</td>\n",
       "      <td>243.65</td>\n",
       "      <td>417.3</td>\n",
       "      <td>33.09</td>\n",
       "      <td>66.91</td>\n",
       "      <td>150</td>\n",
       "      <td>5</td>\n",
       "      <td>1</td>\n",
       "    </tr>\n",
       "    <tr>\n",
       "      <th>8</th>\n",
       "      <td>2008</td>\n",
       "      <td>WALL-E</td>\n",
       "      <td>97</td>\n",
       "      <td>96</td>\n",
       "      <td>84</td>\n",
       "      <td>94</td>\n",
       "      <td>63.10</td>\n",
       "      <td>521.3</td>\n",
       "      <td>223.8</td>\n",
       "      <td>253.11</td>\n",
       "      <td>297.5</td>\n",
       "      <td>42.93</td>\n",
       "      <td>57.07</td>\n",
       "      <td>180</td>\n",
       "      <td>6</td>\n",
       "      <td>1</td>\n",
       "    </tr>\n",
       "    <tr>\n",
       "      <th>9</th>\n",
       "      <td>2009</td>\n",
       "      <td>Up</td>\n",
       "      <td>96</td>\n",
       "      <td>98</td>\n",
       "      <td>83</td>\n",
       "      <td>88</td>\n",
       "      <td>68.11</td>\n",
       "      <td>731.3</td>\n",
       "      <td>293.0</td>\n",
       "      <td>318.90</td>\n",
       "      <td>438.3</td>\n",
       "      <td>40.07</td>\n",
       "      <td>59.93</td>\n",
       "      <td>175</td>\n",
       "      <td>5</td>\n",
       "      <td>2</td>\n",
       "    </tr>\n",
       "    <tr>\n",
       "      <th>10</th>\n",
       "      <td>2010</td>\n",
       "      <td>Toy Story 3</td>\n",
       "      <td>103</td>\n",
       "      <td>99</td>\n",
       "      <td>84</td>\n",
       "      <td>92</td>\n",
       "      <td>110.31</td>\n",
       "      <td>1063.2</td>\n",
       "      <td>415.0</td>\n",
       "      <td>423.88</td>\n",
       "      <td>648.2</td>\n",
       "      <td>39.03</td>\n",
       "      <td>60.97</td>\n",
       "      <td>200</td>\n",
       "      <td>5</td>\n",
       "      <td>2</td>\n",
       "    </tr>\n",
       "    <tr>\n",
       "      <th>11</th>\n",
       "      <td>2011</td>\n",
       "      <td>Cars 2</td>\n",
       "      <td>113</td>\n",
       "      <td>39</td>\n",
       "      <td>63</td>\n",
       "      <td>57</td>\n",
       "      <td>109.00</td>\n",
       "      <td>559.9</td>\n",
       "      <td>191.5</td>\n",
       "      <td>194.43</td>\n",
       "      <td>368.4</td>\n",
       "      <td>34.20</td>\n",
       "      <td>65.80</td>\n",
       "      <td>200</td>\n",
       "      <td>0</td>\n",
       "      <td>0</td>\n",
       "    </tr>\n",
       "    <tr>\n",
       "      <th>12</th>\n",
       "      <td>2012</td>\n",
       "      <td>Brave</td>\n",
       "      <td>100</td>\n",
       "      <td>78</td>\n",
       "      <td>72</td>\n",
       "      <td>69</td>\n",
       "      <td>66.30</td>\n",
       "      <td>539.0</td>\n",
       "      <td>237.3</td>\n",
       "      <td>243.39</td>\n",
       "      <td>301.7</td>\n",
       "      <td>44.03</td>\n",
       "      <td>55.97</td>\n",
       "      <td>185</td>\n",
       "      <td>1</td>\n",
       "      <td>1</td>\n",
       "    </tr>\n",
       "    <tr>\n",
       "      <th>13</th>\n",
       "      <td>2013</td>\n",
       "      <td>Monsters University</td>\n",
       "      <td>107</td>\n",
       "      <td>78</td>\n",
       "      <td>74</td>\n",
       "      <td>65</td>\n",
       "      <td>82.43</td>\n",
       "      <td>743.6</td>\n",
       "      <td>268.5</td>\n",
       "      <td>269.59</td>\n",
       "      <td>475.1</td>\n",
       "      <td>36.11</td>\n",
       "      <td>63.89</td>\n",
       "      <td>200</td>\n",
       "      <td>0</td>\n",
       "      <td>0</td>\n",
       "    </tr>\n",
       "  </tbody>\n",
       "</table>\n",
       "</div>"
      ],
      "text/plain": [
       "    Year Released                Movie  Length  RT Score  IMDB Score  \\\n",
       "0            1995            Toy Story      81       100          83   \n",
       "1            1998         A Bug's Life      96        92          72   \n",
       "2            1999          Toy Story 2      92       100          79   \n",
       "3            2001       Monsters, Inc.      90        96          81   \n",
       "4            2003         Finding Nemo     104        99          82   \n",
       "5            2004      The Incredibles     115        97          80   \n",
       "6            2006                 Cars     116        74          72   \n",
       "7            2007          Ratatouille     111        96          80   \n",
       "8            2008               WALL-E      97        96          84   \n",
       "9            2009                   Up      96        98          83   \n",
       "10           2010          Toy Story 3     103        99          84   \n",
       "11           2011               Cars 2     113        39          63   \n",
       "12           2012                Brave     100        78          72   \n",
       "13           2013  Monsters University     107        78          74   \n",
       "\n",
       "    Metacritic Score  Opening Weekend  Worldwide Gross  Domestic Gross  \\\n",
       "0                 92            29.14            362.0           191.8   \n",
       "1                 77            33.26            363.4           162.8   \n",
       "2                 88            57.39            485.0           245.9   \n",
       "3                 78            62.58            528.8           255.9   \n",
       "4                 90            70.25            895.6           339.7   \n",
       "5                 90            70.47            631.4           261.4   \n",
       "6                 73            60.12            462.0           244.1   \n",
       "7                 96            47.00            623.7           206.4   \n",
       "8                 94            63.10            521.3           223.8   \n",
       "9                 88            68.11            731.3           293.0   \n",
       "10                92           110.31           1063.2           415.0   \n",
       "11                57           109.00            559.9           191.5   \n",
       "12                69            66.30            539.0           237.3   \n",
       "13                65            82.43            743.6           268.5   \n",
       "\n",
       "    Adjusted Domestic Gross  International Gross  Domestic %  International %  \\\n",
       "0                    356.21                170.2       52.98            47.02   \n",
       "1                    277.18                200.6       44.80            55.20   \n",
       "2                    388.43                239.2       50.70            49.32   \n",
       "3                    366.12                272.9       48.39            51.61   \n",
       "4                    457.46                555.9       37.93            62.07   \n",
       "5                    341.28                370.0       41.40            58.60   \n",
       "6                    302.59                217.9       52.84            47.16   \n",
       "7                    243.65                417.3       33.09            66.91   \n",
       "8                    253.11                297.5       42.93            57.07   \n",
       "9                    318.90                438.3       40.07            59.93   \n",
       "10                   423.88                648.2       39.03            60.97   \n",
       "11                   194.43                368.4       34.20            65.80   \n",
       "12                   243.39                301.7       44.03            55.97   \n",
       "13                   269.59                475.1       36.11            63.89   \n",
       "\n",
       "    Production Budget  Oscars Nominated  Oscars Won  \n",
       "0                  30                 3           0  \n",
       "1                  45                 1           0  \n",
       "2                  90                 1           0  \n",
       "3                 115                 3           1  \n",
       "4                  94                 4           1  \n",
       "5                  92                 4           2  \n",
       "6                  70                 2           0  \n",
       "7                 150                 5           1  \n",
       "8                 180                 6           1  \n",
       "9                 175                 5           2  \n",
       "10                200                 5           2  \n",
       "11                200                 0           0  \n",
       "12                185                 1           1  \n",
       "13                200                 0           0  "
      ]
     },
     "execution_count": 15,
     "metadata": {},
     "output_type": "execute_result"
    }
   ],
   "source": [
    "filtered_pixar"
   ]
  },
  {
   "cell_type": "code",
   "execution_count": 16,
   "metadata": {
    "collapsed": true
   },
   "outputs": [],
   "source": [
    "test = pixar_movies.dropna(axis=0, how='any', thresh=None, subset=None, inplace=False)"
   ]
  },
  {
   "cell_type": "code",
   "execution_count": 31,
   "metadata": {
    "collapsed": false
   },
   "outputs": [],
   "source": [
    "filtered_pixar.set_index(keys= \"Movie\", drop=True, append=False, inplace=True, verify_integrity=False)\n",
    "\n"
   ]
  },
  {
   "cell_type": "markdown",
   "metadata": {},
   "source": [
    "inplace = True"
   ]
  },
  {
   "cell_type": "code",
   "execution_count": 40,
   "metadata": {
    "collapsed": false
   },
   "outputs": [],
   "source": [
    "pixar_movies.set_index(keys = \"Movie\", drop=True, append=False, inplace=True, verify_integrity=False)"
   ]
  },
  {
   "cell_type": "code",
   "execution_count": 41,
   "metadata": {
    "collapsed": false
   },
   "outputs": [],
   "source": [
    "critics_reviews = pixar_movies[['RT Score', 'IMDB Score','Metacritic Score']]"
   ]
  },
  {
   "cell_type": "code",
   "execution_count": 42,
   "metadata": {
    "collapsed": false
   },
   "outputs": [
    {
     "data": {
      "text/html": [
       "<div>\n",
       "<table border=\"1\" class=\"dataframe\">\n",
       "  <thead>\n",
       "    <tr style=\"text-align: right;\">\n",
       "      <th></th>\n",
       "      <th>RT Score</th>\n",
       "      <th>IMDB Score</th>\n",
       "      <th>Metacritic Score</th>\n",
       "    </tr>\n",
       "    <tr>\n",
       "      <th>Movie</th>\n",
       "      <th></th>\n",
       "      <th></th>\n",
       "      <th></th>\n",
       "    </tr>\n",
       "  </thead>\n",
       "  <tbody>\n",
       "    <tr>\n",
       "      <th>Toy Story</th>\n",
       "      <td>100</td>\n",
       "      <td>83</td>\n",
       "      <td>92</td>\n",
       "    </tr>\n",
       "    <tr>\n",
       "      <th>A Bug's Life</th>\n",
       "      <td>92</td>\n",
       "      <td>72</td>\n",
       "      <td>77</td>\n",
       "    </tr>\n",
       "    <tr>\n",
       "      <th>Toy Story 2</th>\n",
       "      <td>100</td>\n",
       "      <td>79</td>\n",
       "      <td>88</td>\n",
       "    </tr>\n",
       "    <tr>\n",
       "      <th>Monsters, Inc.</th>\n",
       "      <td>96</td>\n",
       "      <td>81</td>\n",
       "      <td>78</td>\n",
       "    </tr>\n",
       "    <tr>\n",
       "      <th>Finding Nemo</th>\n",
       "      <td>99</td>\n",
       "      <td>82</td>\n",
       "      <td>90</td>\n",
       "    </tr>\n",
       "    <tr>\n",
       "      <th>The Incredibles</th>\n",
       "      <td>97</td>\n",
       "      <td>80</td>\n",
       "      <td>90</td>\n",
       "    </tr>\n",
       "    <tr>\n",
       "      <th>Cars</th>\n",
       "      <td>74</td>\n",
       "      <td>72</td>\n",
       "      <td>73</td>\n",
       "    </tr>\n",
       "    <tr>\n",
       "      <th>Ratatouille</th>\n",
       "      <td>96</td>\n",
       "      <td>80</td>\n",
       "      <td>96</td>\n",
       "    </tr>\n",
       "    <tr>\n",
       "      <th>WALL-E</th>\n",
       "      <td>96</td>\n",
       "      <td>84</td>\n",
       "      <td>94</td>\n",
       "    </tr>\n",
       "    <tr>\n",
       "      <th>Up</th>\n",
       "      <td>98</td>\n",
       "      <td>83</td>\n",
       "      <td>88</td>\n",
       "    </tr>\n",
       "    <tr>\n",
       "      <th>Toy Story 3</th>\n",
       "      <td>99</td>\n",
       "      <td>84</td>\n",
       "      <td>92</td>\n",
       "    </tr>\n",
       "    <tr>\n",
       "      <th>Cars 2</th>\n",
       "      <td>39</td>\n",
       "      <td>63</td>\n",
       "      <td>57</td>\n",
       "    </tr>\n",
       "    <tr>\n",
       "      <th>Brave</th>\n",
       "      <td>78</td>\n",
       "      <td>72</td>\n",
       "      <td>69</td>\n",
       "    </tr>\n",
       "    <tr>\n",
       "      <th>Monsters University</th>\n",
       "      <td>78</td>\n",
       "      <td>74</td>\n",
       "      <td>65</td>\n",
       "    </tr>\n",
       "    <tr>\n",
       "      <th>Inside Out</th>\n",
       "      <td>98</td>\n",
       "      <td>88</td>\n",
       "      <td>93</td>\n",
       "    </tr>\n",
       "  </tbody>\n",
       "</table>\n",
       "</div>"
      ],
      "text/plain": [
       "                     RT Score  IMDB Score  Metacritic Score\n",
       "Movie                                                      \n",
       "Toy Story                 100          83                92\n",
       "A Bug's Life               92          72                77\n",
       "Toy Story 2               100          79                88\n",
       "Monsters, Inc.             96          81                78\n",
       "Finding Nemo               99          82                90\n",
       "The Incredibles            97          80                90\n",
       "Cars                       74          72                73\n",
       "Ratatouille                96          80                96\n",
       "WALL-E                     96          84                94\n",
       "Up                         98          83                88\n",
       "Toy Story 3                99          84                92\n",
       "Cars 2                     39          63                57\n",
       "Brave                      78          72                69\n",
       "Monsters University        78          74                65\n",
       "Inside Out                 98          88                93"
      ]
     },
     "execution_count": 42,
     "metadata": {},
     "output_type": "execute_result"
    }
   ],
   "source": [
    "critics_reviews"
   ]
  },
  {
   "cell_type": "code",
   "execution_count": 46,
   "metadata": {
    "collapsed": false
   },
   "outputs": [
    {
     "data": {
      "image/png": "[encoded data removed]",
      "text/plain": [
       "<matplotlib.figure.Figure at 0x109fabad0>"
      ]
     },
     "metadata": {},
     "output_type": "display_data"
    }
   ],
   "source": [
    "import matplotlib.pyplot as plt\n",
    "%matplotlib inline\n",
    "critics_reviews.plot(kind='line', figsize = (10,6))\n",
    "plt.show()"
   ]
  },
  {
   "cell_type": "code",
   "execution_count": 44,
   "metadata": {
    "collapsed": false
   },
   "outputs": [
    {
     "data": {
      "text/plain": [
       "<matplotlib.axes._subplots.AxesSubplot at 0x1098c2f90>"
      ]
     },
     "execution_count": 44,
     "metadata": {},
     "output_type": "execute_result"
    },
    {
     "data": {
      "image/png": "[encoded data removed]",
      "text/plain": [
       "<matplotlib.figure.Figure at 0x109aab050>"
      ]
     },
     "metadata": {},
     "output_type": "display_data"
    }
   ],
   "source": [
    "critics_reviews.plot(kind= \"box\" , figsize=(6, 6))"
   ]
  },
  {
   "cell_type": "code",
   "execution_count": 45,
   "metadata": {
    "collapsed": true
   },
   "outputs": [],
   "source": [
    "revenue_proportions = filtered_pixar[['Domestic %','International %']]"
   ]
  },
  {
   "cell_type": "code",
   "execution_count": 38,
   "metadata": {
    "collapsed": false
   },
   "outputs": [
    {
     "data": {
      "text/html": [
       "<div>\n",
       "<table border=\"1\" class=\"dataframe\">\n",
       "  <thead>\n",
       "    <tr style=\"text-align: right;\">\n",
       "      <th></th>\n",
       "      <th>Domestic %</th>\n",
       "      <th>International %</th>\n",
       "    </tr>\n",
       "    <tr>\n",
       "      <th>Movie</th>\n",
       "      <th></th>\n",
       "      <th></th>\n",
       "    </tr>\n",
       "  </thead>\n",
       "  <tbody>\n",
       "    <tr>\n",
       "      <th>Toy Story</th>\n",
       "      <td>52.98</td>\n",
       "      <td>47.02</td>\n",
       "    </tr>\n",
       "    <tr>\n",
       "      <th>A Bug's Life</th>\n",
       "      <td>44.80</td>\n",
       "      <td>55.20</td>\n",
       "    </tr>\n",
       "    <tr>\n",
       "      <th>Toy Story 2</th>\n",
       "      <td>50.70</td>\n",
       "      <td>49.32</td>\n",
       "    </tr>\n",
       "    <tr>\n",
       "      <th>Monsters, Inc.</th>\n",
       "      <td>48.39</td>\n",
       "      <td>51.61</td>\n",
       "    </tr>\n",
       "    <tr>\n",
       "      <th>Finding Nemo</th>\n",
       "      <td>37.93</td>\n",
       "      <td>62.07</td>\n",
       "    </tr>\n",
       "    <tr>\n",
       "      <th>The Incredibles</th>\n",
       "      <td>41.40</td>\n",
       "      <td>58.60</td>\n",
       "    </tr>\n",
       "    <tr>\n",
       "      <th>Cars</th>\n",
       "      <td>52.84</td>\n",
       "      <td>47.16</td>\n",
       "    </tr>\n",
       "    <tr>\n",
       "      <th>Ratatouille</th>\n",
       "      <td>33.09</td>\n",
       "      <td>66.91</td>\n",
       "    </tr>\n",
       "    <tr>\n",
       "      <th>WALL-E</th>\n",
       "      <td>42.93</td>\n",
       "      <td>57.07</td>\n",
       "    </tr>\n",
       "    <tr>\n",
       "      <th>Up</th>\n",
       "      <td>40.07</td>\n",
       "      <td>59.93</td>\n",
       "    </tr>\n",
       "    <tr>\n",
       "      <th>Toy Story 3</th>\n",
       "      <td>39.03</td>\n",
       "      <td>60.97</td>\n",
       "    </tr>\n",
       "    <tr>\n",
       "      <th>Cars 2</th>\n",
       "      <td>34.20</td>\n",
       "      <td>65.80</td>\n",
       "    </tr>\n",
       "    <tr>\n",
       "      <th>Brave</th>\n",
       "      <td>44.03</td>\n",
       "      <td>55.97</td>\n",
       "    </tr>\n",
       "    <tr>\n",
       "      <th>Monsters University</th>\n",
       "      <td>36.11</td>\n",
       "      <td>63.89</td>\n",
       "    </tr>\n",
       "  </tbody>\n",
       "</table>\n",
       "</div>"
      ],
      "text/plain": [
       "                     Domestic %  International %\n",
       "Movie                                           \n",
       "Toy Story                 52.98            47.02\n",
       "A Bug's Life              44.80            55.20\n",
       "Toy Story 2               50.70            49.32\n",
       "Monsters, Inc.            48.39            51.61\n",
       "Finding Nemo              37.93            62.07\n",
       "The Incredibles           41.40            58.60\n",
       "Cars                      52.84            47.16\n",
       "Ratatouille               33.09            66.91\n",
       "WALL-E                    42.93            57.07\n",
       "Up                        40.07            59.93\n",
       "Toy Story 3               39.03            60.97\n",
       "Cars 2                    34.20            65.80\n",
       "Brave                     44.03            55.97\n",
       "Monsters University       36.11            63.89"
      ]
     },
     "execution_count": 38,
     "metadata": {},
     "output_type": "execute_result"
    }
   ],
   "source": [
    "revenue_proportions"
   ]
  },
  {
   "cell_type": "code",
   "execution_count": 39,
   "metadata": {
    "collapsed": false
   },
   "outputs": [
    {
     "data": {
      "image/png": "[encoded data removed]",
      "text/plain": [
       "<matplotlib.figure.Figure at 0x1098315d0>"
      ]
     },
     "metadata": {},
     "output_type": "display_data"
    }
   ],
   "source": [
    "revenue_proportions.plot(kind='bar', stacked = True)\n",
    "plt.show()"
   ]
  },
  {
   "cell_type": "code",
   "execution_count": 47,
   "metadata": {
    "collapsed": false
   },
   "outputs": [
    {
     "data": {
      "image/png": "[encoded data removed]",
      "text/plain": [
       "<matplotlib.figure.Figure at 0x109d6eb90>"
      ]
     },
     "metadata": {},
     "output_type": "display_data"
    }
   ],
   "source": [
    "data = filtered_pixar [[\"Oscars Nominated\", \"Oscars Won\"]]\n",
    "sns.pairplot(data)\n",
    "sns.plt.show()"
   ]
  },
  {
   "cell_type": "code",
   "execution_count": 54,
   "metadata": {
    "collapsed": false
   },
   "outputs": [
    {
     "data": {
      "image/png": "[encoded data removed]",
      "text/plain": [
       "<matplotlib.figure.Figure at 0x122daa7d0>"
      ]
     },
     "metadata": {},
     "output_type": "display_data"
    }
   ],
   "source": [
    "data = filtered_pixar [[\"Adjusted Domestic Gross\",\"Year Released\", \"Length\", \"RT Score\", \"IMDB Score\", \"Metacritic Score\"]]\n",
    "sns.pairplot(data)\n",
    "sns.plt.show()\n",
    "\n",
    "#Opening Weekend\tWorldwide Gross\tDomestic Gross"
   ]
  },
  {
   "cell_type": "code",
   "execution_count": 57,
   "metadata": {
    "collapsed": false
   },
   "outputs": [
    {
     "data": {
      "image/png": "[encoded data removed]",
      "text/plain": [
       "<matplotlib.figure.Figure at 0x121dfdc90>"
      ]
     },
     "metadata": {},
     "output_type": "display_data"
    }
   ],
   "source": [
    "data = filtered_pixar [[\"Adjusted Domestic Gross\", \"Worldwide Gross\", \"International Gross\"]]\n",
    "sns.pairplot(data)\n",
    "sns.plt.show()\n",
    "\n",
    "#International Gross\tDomestic %\tInternational %\tProduction Budget\tOscars Nominated\tOscars Won"
   ]
  },
  {
   "cell_type": "code",
   "execution_count": 60,
   "metadata": {
    "collapsed": false
   },
   "outputs": [
    {
     "data": {
      "image/png": "[encoded data removed]",
      "text/plain": [
       "<matplotlib.figure.Figure at 0x122beb910>"
      ]
     },
     "metadata": {},
     "output_type": "display_data"
    }
   ],
   "source": [
    "data = filtered_pixar [[\"Adjusted Domestic Gross\",\"International Gross\", \"Domestic %\", \"Oscars Nominated\",\"Oscars Won\"]]\n",
    "sns.pairplot(data)\n",
    "sns.plt.show()\n",
    "\n",
    "#International Gross\tDomestic %\tInternational %\tProduction Budget\tOscars Nominated\tOscars Won"
   ]
  },
  {
   "cell_type": "code",
   "execution_count": null,
   "metadata": {
    "collapsed": true
   },
   "outputs": [],
   "source": []
  }
 ],
 "metadata": {
  "kernelspec": {
   "display_name": "Python 2",
   "language": "python",
   "name": "python2"
  },
  "language_info": {
   "codemirror_mode": {
    "name": "ipython",
    "version": 2
   },
   "file_extension": ".py",
   "mimetype": "text/x-python",
   "name": "python",
   "nbconvert_exporter": "python",
   "pygments_lexer": "ipython2",
   "version": "2.7.11"
  }
 },
 "nbformat": 4,
 "nbformat_minor": 0
}
